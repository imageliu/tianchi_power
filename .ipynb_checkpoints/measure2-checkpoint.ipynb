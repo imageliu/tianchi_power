{
 "cells": [
  {
   "cell_type": "code",
   "execution_count": 58,
   "metadata": {
    "collapsed": false
   },
   "outputs": [],
   "source": [
    "import pandas as pd \n",
    "import numpy as np \n",
    "import xgboost\n",
    "import os\n",
    "import time\n",
    "import warnings\n",
    "import sklearn\n",
    "import seaborn as sns \n",
    "from sklearn.decomposition import PCA\n",
    "from collections import Counter\n",
    "from sklearn.preprocessing import StandardScaler\n",
    "from sklearn.ensemble import RandomForestRegressor\n",
    "from sklearn.ensemble import GradientBoostingRegressor\n",
    "import matplotlib.pyplot as plt \n",
    "import datetime\n",
    "%matplotlib inline\n",
    "warnings.filterwarnings('ignore')\n",
    "file=r'c:/users/lance/desktop/GitHub_project/tianchi_power_data/matrix_0.csv'\n",
    "weatherfile=r'c:/users/lance/desktop/GitHub_project/tianchi_power_data/weather_data_2014-1-1~2016~9-30.xlsx'\n",
    "holidayfile=r'c:/users/lance/desktop/GitHub_project/tianchi_power_data/holidays.xlsx'"
   ]
  },
  {
   "cell_type": "code",
   "execution_count": 52,
   "metadata": {
    "collapsed": false
   },
   "outputs": [],
   "source": [
    "holidaydata=pd.read_excel(holidayfile,header=None)\n",
    "data=pd.read_csv(file)\n",
    "weatherdata=pd.read_excel(weatherfile)\n",
    "k=['timestamp']\n",
    "k+=[str(x) for x in range(1,1455)]\n",
    "k.append('sum')\n",
    "data.columns=k\n",
    "data['timestamp']=pd.DataFrame(pd.to_datetime(data['timestamp']))"
   ]
  },
  {
   "cell_type": "code",
   "execution_count": 53,
   "metadata": {
    "collapsed": true
   },
   "outputs": [],
   "source": [
    "data['dayofweek']=data['timestamp'].apply(lambda x:x.dayofweek)\n",
    "data['dayofyear']=data['timestamp'].apply(lambda x:x.dayofyear)\n",
    "data['is_weekend']=data['timestamp'].apply(lambda x:1 if x.dayofweek in range(5,7) else 0)"
   ]
  },
  {
   "cell_type": "code",
   "execution_count": 54,
   "metadata": {
    "collapsed": false
   },
   "outputs": [],
   "source": [
    "data['num_working']=1454\n",
    "for i in range(0,609):\n",
    "    data.loc[i,'num_working']=1454-Counter(data.loc[i,][1:1455])[1]"
   ]
  },
  {
   "cell_type": "code",
   "execution_count": 55,
   "metadata": {
    "collapsed": false
   },
   "outputs": [],
   "source": [
    "holidaylist=list(holidaydata[0])"
   ]
  },
  {
   "cell_type": "code",
   "execution_count": 56,
   "metadata": {
    "collapsed": false
   },
   "outputs": [],
   "source": [
    "data['is_holiday']=data.timestamp.apply(lambda x:1 if x in holidaylist else 0)"
   ]
  },
  {
   "cell_type": "code",
   "execution_count": 60,
   "metadata": {
    "collapsed": false
   },
   "outputs": [
    {
     "data": {
      "text/html": [
       "<div>\n",
       "<table border=\"1\" class=\"dataframe\">\n",
       "  <thead>\n",
       "    <tr style=\"text-align: right;\">\n",
       "      <th></th>\n",
       "      <th>timestamp</th>\n",
       "      <th>1</th>\n",
       "      <th>2</th>\n",
       "      <th>3</th>\n",
       "      <th>4</th>\n",
       "      <th>5</th>\n",
       "      <th>6</th>\n",
       "      <th>7</th>\n",
       "      <th>8</th>\n",
       "      <th>9</th>\n",
       "      <th>...</th>\n",
       "      <th>1451</th>\n",
       "      <th>1452</th>\n",
       "      <th>1453</th>\n",
       "      <th>1454</th>\n",
       "      <th>sum</th>\n",
       "      <th>dayofweek</th>\n",
       "      <th>dayofyear</th>\n",
       "      <th>is_weekend</th>\n",
       "      <th>num_working</th>\n",
       "      <th>is_holiday</th>\n",
       "    </tr>\n",
       "  </thead>\n",
       "  <tbody>\n",
       "    <tr>\n",
       "      <th>0</th>\n",
       "      <td>2015-01-01</td>\n",
       "      <td>1135</td>\n",
       "      <td>24</td>\n",
       "      <td>385</td>\n",
       "      <td>206</td>\n",
       "      <td>156</td>\n",
       "      <td>52</td>\n",
       "      <td>167</td>\n",
       "      <td>621</td>\n",
       "      <td>59</td>\n",
       "      <td>...</td>\n",
       "      <td>2225</td>\n",
       "      <td>3511</td>\n",
       "      <td>191</td>\n",
       "      <td>976</td>\n",
       "      <td>2900575</td>\n",
       "      <td>3</td>\n",
       "      <td>1</td>\n",
       "      <td>0</td>\n",
       "      <td>1110</td>\n",
       "      <td>1</td>\n",
       "    </tr>\n",
       "    <tr>\n",
       "      <th>1</th>\n",
       "      <td>2015-01-02</td>\n",
       "      <td>570</td>\n",
       "      <td>22</td>\n",
       "      <td>475</td>\n",
       "      <td>5134</td>\n",
       "      <td>368</td>\n",
       "      <td>386</td>\n",
       "      <td>186</td>\n",
       "      <td>583</td>\n",
       "      <td>301</td>\n",
       "      <td>...</td>\n",
       "      <td>681</td>\n",
       "      <td>3494</td>\n",
       "      <td>449</td>\n",
       "      <td>520</td>\n",
       "      <td>3158211</td>\n",
       "      <td>4</td>\n",
       "      <td>2</td>\n",
       "      <td>0</td>\n",
       "      <td>1116</td>\n",
       "      <td>1</td>\n",
       "    </tr>\n",
       "    <tr>\n",
       "      <th>2</th>\n",
       "      <td>2015-01-03</td>\n",
       "      <td>3418</td>\n",
       "      <td>18</td>\n",
       "      <td>526</td>\n",
       "      <td>6784</td>\n",
       "      <td>359</td>\n",
       "      <td>363</td>\n",
       "      <td>154</td>\n",
       "      <td>636</td>\n",
       "      <td>320</td>\n",
       "      <td>...</td>\n",
       "      <td>2330</td>\n",
       "      <td>3419</td>\n",
       "      <td>492</td>\n",
       "      <td>536</td>\n",
       "      <td>3596487</td>\n",
       "      <td>5</td>\n",
       "      <td>3</td>\n",
       "      <td>1</td>\n",
       "      <td>1115</td>\n",
       "      <td>1</td>\n",
       "    </tr>\n",
       "    <tr>\n",
       "      <th>3</th>\n",
       "      <td>2015-01-04</td>\n",
       "      <td>3968</td>\n",
       "      <td>119</td>\n",
       "      <td>1</td>\n",
       "      <td>6475</td>\n",
       "      <td>467</td>\n",
       "      <td>376</td>\n",
       "      <td>125</td>\n",
       "      <td>1241</td>\n",
       "      <td>309</td>\n",
       "      <td>...</td>\n",
       "      <td>2737</td>\n",
       "      <td>3465</td>\n",
       "      <td>669</td>\n",
       "      <td>488</td>\n",
       "      <td>3939672</td>\n",
       "      <td>6</td>\n",
       "      <td>4</td>\n",
       "      <td>1</td>\n",
       "      <td>1110</td>\n",
       "      <td>0</td>\n",
       "    </tr>\n",
       "    <tr>\n",
       "      <th>4</th>\n",
       "      <td>2015-01-05</td>\n",
       "      <td>3986</td>\n",
       "      <td>108</td>\n",
       "      <td>535</td>\n",
       "      <td>6592</td>\n",
       "      <td>433</td>\n",
       "      <td>377</td>\n",
       "      <td>147</td>\n",
       "      <td>1411</td>\n",
       "      <td>462</td>\n",
       "      <td>...</td>\n",
       "      <td>2790</td>\n",
       "      <td>3472</td>\n",
       "      <td>731</td>\n",
       "      <td>406</td>\n",
       "      <td>4101790</td>\n",
       "      <td>0</td>\n",
       "      <td>5</td>\n",
       "      <td>0</td>\n",
       "      <td>1120</td>\n",
       "      <td>0</td>\n",
       "    </tr>\n",
       "  </tbody>\n",
       "</table>\n",
       "<p>5 rows × 1461 columns</p>\n",
       "</div>"
      ],
      "text/plain": [
       "   timestamp     1    2    3     4    5    6    7     8    9     ...      \\\n",
       "0 2015-01-01  1135   24  385   206  156   52  167   621   59     ...       \n",
       "1 2015-01-02   570   22  475  5134  368  386  186   583  301     ...       \n",
       "2 2015-01-03  3418   18  526  6784  359  363  154   636  320     ...       \n",
       "3 2015-01-04  3968  119    1  6475  467  376  125  1241  309     ...       \n",
       "4 2015-01-05  3986  108  535  6592  433  377  147  1411  462     ...       \n",
       "\n",
       "   1451  1452  1453  1454      sum  dayofweek  dayofyear  is_weekend  \\\n",
       "0  2225  3511   191   976  2900575          3          1           0   \n",
       "1   681  3494   449   520  3158211          4          2           0   \n",
       "2  2330  3419   492   536  3596487          5          3           1   \n",
       "3  2737  3465   669   488  3939672          6          4           1   \n",
       "4  2790  3472   731   406  4101790          0          5           0   \n",
       "\n",
       "   num_working  is_holiday  \n",
       "0         1110           1  \n",
       "1         1116           1  \n",
       "2         1115           1  \n",
       "3         1110           0  \n",
       "4         1120           0  \n",
       "\n",
       "[5 rows x 1461 columns]"
      ]
     },
     "execution_count": 60,
     "metadata": {},
     "output_type": "execute_result"
    }
   ],
   "source": [
    "data.head()"
   ]
  },
  {
   "cell_type": "code",
   "execution_count": 61,
   "metadata": {
    "collapsed": true
   },
   "outputs": [],
   "source": [
    "df=data[['timestamp','sum','dayofweek','dayofyear','is_weekend','num_working','is_holiday']]"
   ]
  },
  {
   "cell_type": "code",
   "execution_count": 63,
   "metadata": {
    "collapsed": false
   },
   "outputs": [],
   "source": [
    "df['sum_shift30']=df['sum'].shift(30)"
   ]
  },
  {
   "cell_type": "code",
   "execution_count": 67,
   "metadata": {
    "collapsed": false
   },
   "outputs": [],
   "source": [
    "df=df.loc[30:,]"
   ]
  },
  {
   "cell_type": "code",
   "execution_count": 69,
   "metadata": {
    "collapsed": false
   },
   "outputs": [],
   "source": [
    "train=df[df.timestamp<r'2016/07/01']\n",
    "test=df[(df.timestamp>=r'2016/07/01')&(df.timestamp<r'2016/08/01')]"
   ]
  },
  {
   "cell_type": "code",
   "execution_count": 71,
   "metadata": {
    "collapsed": false
   },
   "outputs": [],
   "source": [
    "xtrain=train[['sum','dayofweek','dayofyear','is_weekend','num_working','is_holiday']]\n",
    "ytrain=train[['sum_shift30']]"
   ]
  },
  {
   "cell_type": "code",
   "execution_count": 72,
   "metadata": {
    "collapsed": true
   },
   "outputs": [],
   "source": [
    "xtest=test[['sum','dayofweek','dayofyear','is_weekend','num_working','is_holiday']]\n",
    "ytest=test[['sum_shift30']]"
   ]
  },
  {
   "cell_type": "code",
   "execution_count": 73,
   "metadata": {
    "collapsed": true
   },
   "outputs": [],
   "source": [
    "from sklearn.ensemble import RandomForestRegressor"
   ]
  },
  {
   "cell_type": "code",
   "execution_count": 74,
   "metadata": {
    "collapsed": true
   },
   "outputs": [],
   "source": [
    "rfr=RandomForestRegressor()"
   ]
  },
  {
   "cell_type": "code",
   "execution_count": 75,
   "metadata": {
    "collapsed": false
   },
   "outputs": [
    {
     "data": {
      "text/plain": [
       "RandomForestRegressor(bootstrap=True, criterion='mse', max_depth=None,\n",
       "           max_features='auto', max_leaf_nodes=None,\n",
       "           min_impurity_split=1e-07, min_samples_leaf=1,\n",
       "           min_samples_split=2, min_weight_fraction_leaf=0.0,\n",
       "           n_estimators=10, n_jobs=1, oob_score=False, random_state=None,\n",
       "           verbose=0, warm_start=False)"
      ]
     },
     "execution_count": 75,
     "metadata": {},
     "output_type": "execute_result"
    }
   ],
   "source": [
    "rfr.fit(xtrain,ytrain)"
   ]
  },
  {
   "cell_type": "code",
   "execution_count": 81,
   "metadata": {
    "collapsed": false
   },
   "outputs": [],
   "source": [
    "result=rfr.predict(xtest)"
   ]
  },
  {
   "cell_type": "code",
   "execution_count": 80,
   "metadata": {
    "collapsed": false
   },
   "outputs": [
    {
     "data": {
      "text/plain": [
       "(31,)"
      ]
     },
     "execution_count": 80,
     "metadata": {},
     "output_type": "execute_result"
    }
   ],
   "source": [
    "df[df.timestamp>=r'2016/08/01']['sum'].shape"
   ]
  },
  {
   "cell_type": "code",
   "execution_count": 82,
   "metadata": {
    "collapsed": false
   },
   "outputs": [
    {
     "data": {
      "text/plain": [
       "(31,)"
      ]
     },
     "execution_count": 82,
     "metadata": {},
     "output_type": "execute_result"
    }
   ],
   "source": [
    "result.shape"
   ]
  },
  {
   "cell_type": "raw",
   "metadata": {},
   "source": []
  }
 ],
 "metadata": {
  "kernelspec": {
   "display_name": "Python 3",
   "language": "python",
   "name": "python3"
  },
  "language_info": {
   "codemirror_mode": {
    "name": "ipython",
    "version": 3
   },
   "file_extension": ".py",
   "mimetype": "text/x-python",
   "name": "python",
   "nbconvert_exporter": "python",
   "pygments_lexer": "ipython3",
   "version": "3.5.2"
  }
 },
 "nbformat": 4,
 "nbformat_minor": 2
}
