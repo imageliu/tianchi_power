{
 "cells": [
  {
   "cell_type": "code",
   "execution_count": 8,
   "metadata": {
    "collapsed": false
   },
   "outputs": [],
   "source": [
    "import pandas as pd \n",
    "import numpy as np \n",
    "from collections import Counter\n",
    "import xgboost\n",
    "import os\n",
    "import time\n",
    "import warnings\n",
    "import sklearn\n",
    "import seaborn as sns \n",
    "from sklearn.decomposition import PCA\n",
    "from sklearn.preprocessing import StandardScaler\n",
    "from sklearn.ensemble import RandomForestRegressor\n",
    "from sklearn.ensemble import GradientBoostingRegressor\n",
    "import matplotlib.pyplot as plt \n",
    "from sklearn.metrics import r2_score\n",
    "import datetime\n",
    "%matplotlib inline\n",
    "warnings.filterwarnings('ignore')"
   ]
  },
  {
   "cell_type": "code",
   "execution_count": 9,
   "metadata": {
    "collapsed": true
   },
   "outputs": [],
   "source": [
    "file=r'c:/users/lance/desktop/GitHub_project/tianchi_power_data/matrix_0.csv'\n",
    "weatherfile=r'c:/users/lance/desktop/GitHub_project/tianchi_power_data/weather_data_2014-1-1~2016~9-30.xlsx'\n",
    "holidayfile=r'c:/users/lance/desktop/GitHub_project/tianchi_power_data/holidays.xlsx'\n",
    "if_rainfile=r'c:/users/lance/desktop/GitHub_project/tianchi_power_data/if_rain.xlsx'\n",
    "numst='sum'"
   ]
  },
  {
   "cell_type": "code",
   "execution_count": 10,
   "metadata": {
    "collapsed": true
   },
   "outputs": [],
   "source": [
    "data=pd.read_csv(file)\n",
    "weatherdata=pd.read_excel(weatherfile)\n",
    "holidaydata=pd.read_excel(holidayfile,header=None)\n",
    "data=data.set_index('Unnamed: 0')\n",
    "k=[str(x) for x in range(1,1455)]\n",
    "k.append('sum')\n",
    "data.columns=k\n",
    "weatherdata=weatherdata.set_index('date')\n",
    "if_raindata=pd.read_excel(if_rainfile)\n",
    "\n",
    "\n",
    "def tz(df,str1):\n",
    "    df['timestamp']=df.index\n",
    "    df['time_stamp']=pd.DataFrame(pd.to_datetime(df['timestamp']))\n",
    "    df['dow'] = df.time_stamp.apply(lambda x: x.dayofweek)\n",
    "    df['doy'] = df.time_stamp.apply(lambda x: x.dayofyear)\n",
    "    df['day'] = df.time_stamp.apply(lambda x: x.day)\n",
    "    df['is_weekend']=df.time_stamp.apply(lambda x:1 if x.dayofweek in range(5,7) else 0)\n",
    "    df['month'] = df.time_stamp.apply(lambda x: x.month)\n",
    "    df['d-1']=df[str1].shift(1)\n",
    "    df['d-2']=df[str1].shift(2)\n",
    "    df['d_dif']=df['d-1']-df['d-2']\n",
    "    weatherdata['date']=weatherdata.index\n",
    "    combineddf=pd.merge(left=df,right=weatherdata,left_on='time_stamp',right_on='date',how='left')\n",
    "    combineddf=combineddf.fillna(method='bfill')\n",
    "    return combineddf\n",
    "\n",
    "combineddf=tz(pd.DataFrame(data[numst]),numst)\n",
    "combineddf=combineddf.set_index('time_stamp')"
   ]
  },
  {
   "cell_type": "code",
   "execution_count": 16,
   "metadata": {
    "collapsed": false
   },
   "outputs": [],
   "source": [
    "df=data[data.index>='2016/07/01']"
   ]
  },
  {
   "cell_type": "code",
   "execution_count": 17,
   "metadata": {
    "collapsed": false
   },
   "outputs": [
    {
     "data": {
      "text/plain": [
       "(244, 1455)"
      ]
     },
     "execution_count": 17,
     "metadata": {},
     "output_type": "execute_result"
    }
   ],
   "source": [
    "df.shape"
   ]
  },
  {
   "cell_type": "code",
   "execution_count": 23,
   "metadata": {
    "collapsed": false
   },
   "outputs": [
    {
     "data": {
      "text/plain": [
       "Unnamed: 0\n",
       "2016/1/1     1\n",
       "2016/1/2     1\n",
       "2016/1/3     1\n",
       "2016/1/4     1\n",
       "2016/1/5     1\n",
       "2016/1/6     1\n",
       "2016/1/7     1\n",
       "2016/1/8     1\n",
       "2016/1/9     1\n",
       "2016/1/10    1\n",
       "2016/1/11    1\n",
       "2016/1/12    1\n",
       "2016/1/13    1\n",
       "2016/1/14    1\n",
       "2016/1/15    1\n",
       "2016/1/16    1\n",
       "2016/1/17    1\n",
       "2016/1/18    1\n",
       "2016/1/19    1\n",
       "2016/1/20    1\n",
       "2016/1/21    1\n",
       "2016/1/22    1\n",
       "2016/1/23    1\n",
       "2016/1/24    1\n",
       "2016/1/25    1\n",
       "2016/1/26    1\n",
       "2016/1/27    1\n",
       "2016/1/28    1\n",
       "2016/1/29    1\n",
       "2016/1/30    1\n",
       "            ..\n",
       "2016/8/2     1\n",
       "2016/8/3     1\n",
       "2016/8/4     1\n",
       "2016/8/5     1\n",
       "2016/8/6     1\n",
       "2016/8/7     1\n",
       "2016/8/8     1\n",
       "2016/8/9     1\n",
       "2016/8/10    1\n",
       "2016/8/11    1\n",
       "2016/8/12    1\n",
       "2016/8/13    1\n",
       "2016/8/14    1\n",
       "2016/8/15    1\n",
       "2016/8/16    1\n",
       "2016/8/17    1\n",
       "2016/8/18    1\n",
       "2016/8/19    1\n",
       "2016/8/20    1\n",
       "2016/8/21    1\n",
       "2016/8/22    1\n",
       "2016/8/23    1\n",
       "2016/8/24    1\n",
       "2016/8/25    1\n",
       "2016/8/26    1\n",
       "2016/8/27    1\n",
       "2016/8/28    1\n",
       "2016/8/29    1\n",
       "2016/8/30    1\n",
       "2016/8/31    1\n",
       "Name: 40, dtype: int64"
      ]
     },
     "execution_count": 23,
     "metadata": {},
     "output_type": "execute_result"
    }
   ],
   "source": [
    "df['40']"
   ]
  },
  {
   "cell_type": "code",
   "execution_count": 18,
   "metadata": {
    "collapsed": false
   },
   "outputs": [],
   "source": [
    "delete_=[]\n",
    "for x in data.columns:\n",
    "    if sum(df[x])==244:\n",
    "        delete_.append(x)"
   ]
  },
  {
   "cell_type": "code",
   "execution_count": 24,
   "metadata": {
    "collapsed": true
   },
   "outputs": [],
   "source": [
    "delete_\n",
    "for x in delete_:\n",
    "    del data[x]"
   ]
  },
  {
   "cell_type": "code",
   "execution_count": 28,
   "metadata": {
    "collapsed": false
   },
   "outputs": [],
   "source": [
    "data.to_excel(r'c:\\users\\lance\\desktop\\cleaned_matrix.xlsx')"
   ]
  },
  {
   "cell_type": "code",
   "execution_count": null,
   "metadata": {
    "collapsed": true
   },
   "outputs": [],
   "source": []
  }
 ],
 "metadata": {
  "kernelspec": {
   "display_name": "Python 3",
   "language": "python",
   "name": "python3"
  },
  "language_info": {
   "codemirror_mode": {
    "name": "ipython",
    "version": 3
   },
   "file_extension": ".py",
   "mimetype": "text/x-python",
   "name": "python",
   "nbconvert_exporter": "python",
   "pygments_lexer": "ipython3",
   "version": "3.5.2"
  }
 },
 "nbformat": 4,
 "nbformat_minor": 2
}
